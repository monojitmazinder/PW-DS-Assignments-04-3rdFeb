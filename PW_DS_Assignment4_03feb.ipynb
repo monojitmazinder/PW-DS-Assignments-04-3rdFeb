{
 "cells": [
  {
   "cell_type": "markdown",
   "id": "afc7a6c3-77b4-4c79-a7bc-c7229de713bd",
   "metadata": {},
   "source": [
    "Assignment_04:Answers"
   ]
  },
  {
   "cell_type": "code",
   "execution_count": 1,
   "id": "44f7d6f6-a91e-4d56-a961-666aa1d3a286",
   "metadata": {},
   "outputs": [
    {
     "name": "stdout",
     "output_type": "stream",
     "text": [
      "List of odd numbers in the range of 1 to 25: [1, 3, 5, 7, 9, 11, 13, 15, 17, 19, 21, 23, 25]\n"
     ]
    }
   ],
   "source": [
    "#Ans.1. A function to return a list of odd numbers in the range of 1 to 25, given below:\n",
    "\n",
    "def get_odd_numbers():\n",
    "    odd_numbers = []\n",
    "    for num in range(1, 26):\n",
    "        if num % 2 != 0:\n",
    "            odd_numbers.append(num)\n",
    "    return odd_numbers\n",
    "\n",
    "# Call the function and print the result\n",
    "print(\"List of odd numbers in the range of 1 to 25:\", get_odd_numbers())\n"
   ]
  },
  {
   "cell_type": "markdown",
   "id": "b47f7ad3-46f9-4709-9c9d-bb2176296813",
   "metadata": {},
   "source": [
    "Ans.2. *args and **kwargs are used in Python functions to accept a variable number of arguments.\n",
    "\n",
    "- *args allows you to pass a variable number of positional arguments to a function. The args variable inside the function becomes a tuple containing all the positional arguments passed to the function.\n",
    "\n",
    "- **kwargs allows you to pass a variable number of keyword arguments (i.e., arguments specified with keyword-value pairs) to a function. The kwargs variable inside the function becomes a dictionary containing all the keyword arguments passed to the function.\n",
    "\n",
    "Here are examples demonstrating their use:"
   ]
  },
  {
   "cell_type": "code",
   "execution_count": 2,
   "id": "f5e232ae-adb8-43e5-a6a0-6b0f57b562ae",
   "metadata": {},
   "outputs": [
    {
     "name": "stdout",
     "output_type": "stream",
     "text": [
      "Sum of numbers (1, 2, 3, 4, 5): 15\n",
      "Sum of numbers (10, 20, 30): 60\n"
     ]
    }
   ],
   "source": [
    "#Example with *args:\n",
    "\n",
    "def sum_all(*args):\n",
    "    total = 0\n",
    "    for num in args:\n",
    "        total += num\n",
    "    return total\n",
    "\n",
    "# Using the function with different number of arguments\n",
    "print(\"Sum of numbers (1, 2, 3, 4, 5):\", sum_all(1, 2, 3, 4, 5))\n",
    "print(\"Sum of numbers (10, 20, 30):\", sum_all(10, 20, 30))\n"
   ]
  },
  {
   "cell_type": "markdown",
   "id": "0412a622-204d-489c-aa1e-b2bc31f34675",
   "metadata": {},
   "source": [
    "In this example, the function sum_all() accepts a variable number of positional arguments using *args. It then iterates through all the arguments passed and calculates their sum."
   ]
  },
  {
   "cell_type": "code",
   "execution_count": 3,
   "id": "0f94ca99-5133-4c7a-a812-0b0200cd0c82",
   "metadata": {},
   "outputs": [
    {
     "name": "stdout",
     "output_type": "stream",
     "text": [
      "name: John\n",
      "age: 30\n",
      "city: New York\n",
      "fruit: Apple\n",
      "color: Red\n",
      "price: 2.5\n"
     ]
    }
   ],
   "source": [
    "#Example with **kwargs:\n",
    "\n",
    "def print_info(**kwargs):\n",
    "    for key, value in kwargs.items():\n",
    "        print(key + \":\", value)\n",
    "\n",
    "# Using the function with different keyword arguments\n",
    "print_info(name=\"John\", age=30, city=\"New York\")\n",
    "print_info(fruit=\"Apple\", color=\"Red\", price=2.5)\n"
   ]
  },
  {
   "cell_type": "markdown",
   "id": "0c28e1de-27bf-439f-ab24-784eca51c915",
   "metadata": {},
   "source": [
    "In this example, the function print_info() accepts a variable number of keyword arguments using **kwargs. It then iterates through all the keyword arguments passed and prints their key-value pairs."
   ]
  },
  {
   "cell_type": "code",
   "execution_count": 4,
   "id": "5b4e7208-3c03-4da9-937e-e2119ca3a5e5",
   "metadata": {},
   "outputs": [
    {
     "name": "stdout",
     "output_type": "stream",
     "text": [
      "2\n",
      "4\n",
      "6\n",
      "8\n",
      "10\n"
     ]
    }
   ],
   "source": [
    "#Ans.3.  an iterator is an object that allows iteration over a sequence of elements, such as a list, tuple, or dictionary. Iterators implement the iterator protocol.\n",
    "\n",
    "# Define the list\n",
    "my_list = [2, 4, 6, 8, 10, 12, 14, 16, 18, 20]\n",
    "\n",
    "# Initialize the iterator object\n",
    "iterator = iter(my_list)\n",
    "\n",
    "# Iterate and print the first five elements\n",
    "for _ in range(5):\n",
    "    print(next(iterator))\n"
   ]
  },
  {
   "cell_type": "markdown",
   "id": "715db6fa-11b0-4484-b59e-46b83d4167fa",
   "metadata": {},
   "source": [
    "Ans.4. A generator function is a special type of function that generates a sequence of values lazily, one at a time, instead of computing them all at once and storing them in memory. Generator functions are defined using the yield keyword instead of return. When a generator function is called, it returns a generator object, which is an iterator. Generator functions allow you to iterate over large sequences of values without loading the entire sequence into memory at once, making them memory-efficient.\n",
    "\n",
    "The yield keyword is used in generator functions to temporarily suspend execution and yield a value to the caller. When the generator function is called again, execution resumes from where it left off, maintaining the state of local variables. This allows the generator function to produce values one at a time, on-demand."
   ]
  },
  {
   "cell_type": "code",
   "execution_count": 5,
   "id": "fc87ae7a-3714-4c43-8d96-0cc5c65720d2",
   "metadata": {},
   "outputs": [
    {
     "name": "stdout",
     "output_type": "stream",
     "text": [
      "0\n",
      "2\n",
      "4\n",
      "6\n",
      "8\n"
     ]
    }
   ],
   "source": [
    "#example\n",
    "\n",
    "def generate_even_numbers(n):\n",
    "    for i in range(n):\n",
    "        if i % 2 == 0:\n",
    "            yield i\n",
    "\n",
    "# Create a generator object\n",
    "even_numbers_generator = generate_even_numbers(10)\n",
    "\n",
    "# Iterate over the generator object and print each value\n",
    "for num in even_numbers_generator:\n",
    "    print(num)\n"
   ]
  },
  {
   "cell_type": "code",
   "execution_count": 6,
   "id": "25f191b1-ac7a-4e52-8ac7-22d48cc042c5",
   "metadata": {},
   "outputs": [
    {
     "name": "stdout",
     "output_type": "stream",
     "text": [
      "2\n",
      "3\n",
      "5\n",
      "7\n",
      "11\n",
      "13\n",
      "17\n",
      "19\n",
      "23\n",
      "29\n",
      "31\n",
      "37\n",
      "41\n",
      "43\n",
      "47\n",
      "53\n",
      "59\n",
      "61\n",
      "67\n",
      "71\n"
     ]
    }
   ],
   "source": [
    "#Ans.5. Here's a generator function to generate prime numbers less than 1000 and use the next() method to print the first 20 prime numbers:\n",
    "\n",
    "\n",
    "def generate_primes():\n",
    "    num = 2\n",
    "    while True:\n",
    "        if all(num % i != 0 for i in range(2, int(num ** 0.5) + 1)):\n",
    "            yield num\n",
    "        num += 1\n",
    "\n",
    "# Create a generator object for prime numbers\n",
    "prime_generator = generate_primes()\n",
    "\n",
    "# Print the first 20 prime numbers\n",
    "for _ in range(20):\n",
    "    print(next(prime_generator))\n"
   ]
  },
  {
   "cell_type": "code",
   "execution_count": 7,
   "id": "6baafdbb-7bb3-45d4-b120-e465c65c5646",
   "metadata": {},
   "outputs": [
    {
     "name": "stdout",
     "output_type": "stream",
     "text": [
      "The first 10 Fibonacci numbers:\n",
      "0\n",
      "1\n",
      "1\n",
      "2\n",
      "3\n",
      "5\n",
      "8\n",
      "13\n",
      "21\n",
      "34\n"
     ]
    }
   ],
   "source": [
    "#Ans.6. Here's a Python program that prints the first 10 Fibonacci numbers using a while loop:\n",
    "\n",
    "\n",
    "def fibonacci_sequence(n):\n",
    "    fib_sequence = []\n",
    "    # Initializing the first two Fibonacci numbers\n",
    "    fib_1, fib_2 = 0, 1\n",
    "    count = 0\n",
    "    while count < n:\n",
    "        fib_sequence.append(fib_1)\n",
    "        fib_1, fib_2 = fib_2, fib_1 + fib_2\n",
    "        count += 1\n",
    "    return fib_sequence\n",
    "\n",
    "# Call the function to print the first 10 Fibonacci numbers\n",
    "fib_numbers = fibonacci_sequence(10)\n",
    "print(\"The first 10 Fibonacci numbers:\")\n",
    "for num in fib_numbers:\n",
    "    print(num)\n"
   ]
  },
  {
   "cell_type": "code",
   "execution_count": 8,
   "id": "74534d04-ab4c-4bae-b971-bc48efdf285f",
   "metadata": {},
   "outputs": [
    {
     "name": "stdout",
     "output_type": "stream",
     "text": [
      "['p', 'w', 's', 'k', 'i', 'l', 'l', 's']\n"
     ]
    }
   ],
   "source": [
    "#Ans.7.Using a list comprehension to iterate through the given string 'pwskills' and create a list containing each character. \n",
    "\n",
    "string = 'pwskills'\n",
    "output_list = [char for char in string]\n",
    "print(output_list)\n"
   ]
  },
  {
   "cell_type": "code",
   "execution_count": 10,
   "id": "fd599e6d-b2f0-47c7-bb66-7b6ca7005da3",
   "metadata": {},
   "outputs": [
    {
     "name": "stdin",
     "output_type": "stream",
     "text": [
      "Enter a number to check if it's a palindrome:  5\n"
     ]
    },
    {
     "name": "stdout",
     "output_type": "stream",
     "text": [
      "5 is a palindrome.\n"
     ]
    }
   ],
   "source": [
    "#Ans.8. Here's a Python program to check whether a given number is a palindrome or not using a while loop:\n",
    "\n",
    "def is_palindrome(num):\n",
    "    original_num = num\n",
    "    reversed_num = 0\n",
    "    \n",
    "    while num > 0:\n",
    "        digit = num % 10\n",
    "        reversed_num = reversed_num * 10 + digit\n",
    "        num //= 10\n",
    "    \n",
    "    return original_num == reversed_num\n",
    "\n",
    "# Test the function\n",
    "number = int(input(\"Enter a number to check if it's a palindrome: \"))\n",
    "\n",
    "if is_palindrome(number):\n",
    "    print(f\"{number} is a palindrome.\")\n",
    "else:\n",
    "    print(f\"{number} is not a palindrome.\")\n"
   ]
  },
  {
   "cell_type": "code",
   "execution_count": 11,
   "id": "ff942e7e-11f3-4f83-ab9c-5376f10f4932",
   "metadata": {},
   "outputs": [
    {
     "name": "stdout",
     "output_type": "stream",
     "text": [
      "Odd numbers from 1 to 100:\n",
      "[1, 3, 5, 7, 9, 11, 13, 15, 17, 19, 21, 23, 25, 27, 29, 31, 33, 35, 37, 39, 41, 43, 45, 47, 49, 51, 53, 55, 57, 59, 61, 63, 65, 67, 69, 71, 73, 75, 77, 79, 81, 83, 85, 87, 89, 91, 93, 95, 97, 99]\n"
     ]
    }
   ],
   "source": [
    "#Ans.9.  Here's the Python code to print odd numbers from 1 to 100 using list comprehension:\n",
    "\n",
    "# Using list comprehension to create a list from 1 to 100\n",
    "numbers = [num for num in range(1, 101)]\n",
    "\n",
    "# Using another list comprehension to filter out odd numbers\n",
    "odd_numbers = [num for num in numbers if num % 2 != 0]\n",
    "\n",
    "# Printing the list of odd numbers\n",
    "print(\"Odd numbers from 1 to 100:\")\n",
    "print(odd_numbers)\n"
   ]
  },
  {
   "cell_type": "code",
   "execution_count": null,
   "id": "69e0948c-c510-4b37-86e8-3e0b0601a2bb",
   "metadata": {},
   "outputs": [],
   "source": []
  }
 ],
 "metadata": {
  "kernelspec": {
   "display_name": "Python 3 (ipykernel)",
   "language": "python",
   "name": "python3"
  },
  "language_info": {
   "codemirror_mode": {
    "name": "ipython",
    "version": 3
   },
   "file_extension": ".py",
   "mimetype": "text/x-python",
   "name": "python",
   "nbconvert_exporter": "python",
   "pygments_lexer": "ipython3",
   "version": "3.10.8"
  }
 },
 "nbformat": 4,
 "nbformat_minor": 5
}
